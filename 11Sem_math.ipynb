{
 "cells": [
  {
   "cell_type": "code",
   "execution_count": null,
   "metadata": {},
   "outputs": [],
   "source": [
    "import math\n",
    "from sympy import * # символьные вычисления\n",
    "from sympy.plotting import plot\n",
    "from numpy import * #численные вычислени\n",
    "\n",
    "# x = symbols('x')\n",
    "# y = -5*x**2 + 4*x + 14\n",
    "# fd = diff(y)\n",
    "\n",
    "# print(solve(y>0))\n",
    "# print(solve(y<0))\n",
    "# print(solve(fd<0))\n",
    "# print(solve(fd<0))"
   ]
  },
  {
   "cell_type": "code",
   "execution_count": null,
   "metadata": {},
   "outputs": [],
   "source": [
    "# Дана функция f(x) = 5x^2 + 10x - 30\n",
    "# 1/ Определить корни\n",
    "# 2/ Найти интервалы, на которых функция возрастает\n",
    "# 3/ Найти интервалы, на которых функция убывает\n",
    "# 4/ Построить график\n",
    "# 5/ Вычислить вершину\n",
    "# 6/ Определить промежутки, на котором f > 0\n",
    "# 7/ Определить промежутки, на котором f < 0\n",
    "\n",
    "# https://docs.sympy.org/latest/modules/solvers/solvers.html\n",
    "# https://russianblogs.com/article/6677821019/"
   ]
  },
  {
   "cell_type": "code",
   "execution_count": 1,
   "metadata": {},
   "outputs": [
    {
     "ename": "NameError",
     "evalue": "name 'Symbol' is not defined",
     "output_type": "error",
     "traceback": [
      "\u001b[1;31m---------------------------------------------------------------------------\u001b[0m",
      "\u001b[1;31mNameError\u001b[0m                                 Traceback (most recent call last)",
      "Cell \u001b[1;32mIn[1], line 1\u001b[0m\n\u001b[1;32m----> 1\u001b[0m x \u001b[39m=\u001b[39m Symbol(\u001b[39m'\u001b[39m\u001b[39mx\u001b[39m\u001b[39m'\u001b[39m)\n\u001b[0;32m      2\u001b[0m fx \u001b[39m=\u001b[39m \u001b[39m5\u001b[39m\u001b[39m*\u001b[39mx\u001b[39m*\u001b[39m\u001b[39m*\u001b[39m\u001b[39m2\u001b[39m \u001b[39m+\u001b[39m \u001b[39m10\u001b[39m\u001b[39m*\u001b[39mx \u001b[39m-\u001b[39m \u001b[39m30\u001b[39m\n\u001b[0;32m      3\u001b[0m fx\n",
      "\u001b[1;31mNameError\u001b[0m: name 'Symbol' is not defined"
     ]
    }
   ],
   "source": [
    "x = Symbol('x')\n",
    "fx = 5*x**2 + 10*x - 30\n",
    "fx"
   ]
  },
  {
   "attachments": {},
   "cell_type": "markdown",
   "metadata": {},
   "source": [
    "<!-- 4/ Построить график -->"
   ]
  },
  {
   "cell_type": "code",
   "execution_count": 2,
   "metadata": {},
   "outputs": [
    {
     "ename": "NameError",
     "evalue": "name 'plot' is not defined",
     "output_type": "error",
     "traceback": [
      "\u001b[1;31m---------------------------------------------------------------------------\u001b[0m",
      "\u001b[1;31mNameError\u001b[0m                                 Traceback (most recent call last)",
      "Cell \u001b[1;32mIn[2], line 1\u001b[0m\n\u001b[1;32m----> 1\u001b[0m p \u001b[39m=\u001b[39m plot(fx,(x,\u001b[39m-\u001b[39m\u001b[39m10\u001b[39m,\u001b[39m10\u001b[39m))\n",
      "\u001b[1;31mNameError\u001b[0m: name 'plot' is not defined"
     ]
    }
   ],
   "source": [
    "p = plot(fx,(x,-10,10))"
   ]
  },
  {
   "attachments": {},
   "cell_type": "markdown",
   "metadata": {},
   "source": [
    "1/ Определить корни"
   ]
  },
  {
   "cell_type": "code",
   "execution_count": 26,
   "metadata": {},
   "outputs": [
    {
     "name": "stdout",
     "output_type": "stream",
     "text": [
      "[-1 + sqrt(7), -sqrt(7) - 1]\n"
     ]
    }
   ],
   "source": [
    "print(solve(fx))"
   ]
  },
  {
   "cell_type": "code",
   "execution_count": null,
   "metadata": {},
   "outputs": [],
   "source": [
    "2/ Найти интервалы, на которых функция возрастает\n",
    "3/ Найти интервалы, на которых функция убывает\n",
    "5/ Вычислить вершину"
   ]
  },
  {
   "cell_type": "code",
   "execution_count": 38,
   "metadata": {},
   "outputs": [
    {
     "ename": "ValueError",
     "evalue": "diff requires input that is at least one dimensional",
     "output_type": "error",
     "traceback": [
      "\u001b[1;31m---------------------------------------------------------------------------\u001b[0m",
      "\u001b[1;31mValueError\u001b[0m                                Traceback (most recent call last)",
      "Cell \u001b[1;32mIn[38], line 1\u001b[0m\n\u001b[1;32m----> 1\u001b[0m y \u001b[39m=\u001b[39m diff(fx)\n\u001b[0;32m      2\u001b[0m y\n\u001b[0;32m      3\u001b[0m \u001b[39m# apex = solve(diff(fx) > 0)\u001b[39;00m\n\u001b[0;32m      4\u001b[0m \u001b[39m# solve(diff(fx)> 0)\u001b[39;00m\n\u001b[0;32m      5\u001b[0m \u001b[39m# solve(diff(fx) > 0)\u001b[39;00m\n",
      "File \u001b[1;32m<__array_function__ internals>:200\u001b[0m, in \u001b[0;36mdiff\u001b[1;34m(*args, **kwargs)\u001b[0m\n",
      "File \u001b[1;32mc:\\Users\\RND\\AppData\\Local\\Programs\\Python\\Python311\\Lib\\site-packages\\numpy\\lib\\function_base.py:1414\u001b[0m, in \u001b[0;36mdiff\u001b[1;34m(a, n, axis, prepend, append)\u001b[0m\n\u001b[0;32m   1412\u001b[0m nd \u001b[39m=\u001b[39m a\u001b[39m.\u001b[39mndim\n\u001b[0;32m   1413\u001b[0m \u001b[39mif\u001b[39;00m nd \u001b[39m==\u001b[39m \u001b[39m0\u001b[39m:\n\u001b[1;32m-> 1414\u001b[0m     \u001b[39mraise\u001b[39;00m \u001b[39mValueError\u001b[39;00m(\u001b[39m\"\u001b[39m\u001b[39mdiff requires input that is at least one dimensional\u001b[39m\u001b[39m\"\u001b[39m)\n\u001b[0;32m   1415\u001b[0m axis \u001b[39m=\u001b[39m normalize_axis_index(axis, nd)\n\u001b[0;32m   1417\u001b[0m combined \u001b[39m=\u001b[39m []\n",
      "\u001b[1;31mValueError\u001b[0m: diff requires input that is at least one dimensional"
     ]
    }
   ],
   "source": [
    "y = diff(fx)\n",
    "y\n",
    "apex = solve(diff(fx) > 0)\n",
    "solve(diff(fx)> 0)\n",
    "solve(diff(fx) > 0)"
   ]
  },
  {
   "attachments": {},
   "cell_type": "markdown",
   "metadata": {},
   "source": [
    "solve - универсальный \"решатель\" уравнений, неравенства, многочлены"
   ]
  },
  {
   "cell_type": "code",
   "execution_count": 34,
   "metadata": {},
   "outputs": [
    {
     "data": {
      "text/latex": [
       "$\\displaystyle \\left(-\\infty < x \\wedge x < - \\sqrt{7} - 1\\right) \\vee \\left(x < \\infty \\wedge -1 + \\sqrt{7} < x\\right)$"
      ],
      "text/plain": [
       "((x < oo) & (-1 + sqrt(7) < x)) | ((-oo < x) & (x < -sqrt(7) - 1))"
      ]
     },
     "execution_count": 34,
     "metadata": {},
     "output_type": "execute_result"
    }
   ],
   "source": [
    "solve(fx > 0)"
   ]
  },
  {
   "attachments": {},
   "cell_type": "markdown",
   "metadata": {},
   "source": []
  },
  {
   "cell_type": "code",
   "execution_count": 35,
   "metadata": {},
   "outputs": [
    {
     "data": {
      "text/latex": [
       "$\\displaystyle x < -1 + \\sqrt{7} \\wedge - \\sqrt{7} - 1 < x$"
      ],
      "text/plain": [
       "(x < -1 + sqrt(7)) & (-sqrt(7) - 1 < x)"
      ]
     },
     "execution_count": 35,
     "metadata": {},
     "output_type": "execute_result"
    }
   ],
   "source": [
    "solve(fx < 0)"
   ]
  },
  {
   "cell_type": "markdown",
   "metadata": {},
   "source": []
  },
  {
   "cell_type": "code",
   "execution_count": 44,
   "metadata": {},
   "outputs": [
    {
     "data": {
      "text/latex": [
       "$\\displaystyle - 12 x^{4} - 18 x^{3} + 5 x^{2} + 10 x - 30$"
      ],
      "text/plain": [
       "-12*x**4 - 18*x**3 + 5*x**2 + 10*x - 30"
      ]
     },
     "execution_count": 44,
     "metadata": {},
     "output_type": "execute_result"
    }
   ],
   "source": [
    "x = Symbol('x')\n",
    "fx = -12*x**4-18*x**3+5*x**2+10*x-30\n",
    "fx"
   ]
  },
  {
   "cell_type": "code",
   "execution_count": 45,
   "metadata": {},
   "outputs": [
    {
     "name": "stdout",
     "output_type": "stream",
     "text": [
      "      0 |                 .....................                 \n",
      "        |             ....                     ....             \n",
      "        |           ..                             \\            \n",
      "        |          /                                ..          \n",
      "        |         /                                   \\         \n",
      "        |        /                                     \\        \n",
      "        |       /                                       \\       \n",
      "        |      .                                         .      \n",
      "        |                                                       \n",
      "        |     .                                           .     \n",
      "-9.5e+0 |-------------------------------------------------------\n",
      "        |    .                                             .    \n",
      "        |                                                       \n",
      "        |   .                                               .   \n",
      "        |                                                       \n",
      "        |  .                                                 .  \n",
      "        |                                                       \n",
      "        | .                                                     \n",
      "        |                                                     . \n",
      "        |                                                       \n",
      "-1.9e+1 |_______________________________________________________\n",
      "         -200                       0                          200\n"
     ]
    }
   ],
   "source": [
    "p=plot(fx,(x,-200,200))"
   ]
  },
  {
   "cell_type": "code",
   "execution_count": 46,
   "metadata": {},
   "outputs": [
    {
     "name": "stdout",
     "output_type": "stream",
     "text": [
      "[-3/8 - sqrt(121/144 + 4885/(2592*(208045/373248 + 5*sqrt(9048041)*I/20736)**(1/3)) + 2*(208045/373248 + 5*sqrt(9048041)*I/20736)**(1/3))/2 - sqrt(121/72 - 2*(208045/373248 + 5*sqrt(9048041)*I/20736)**(1/3) - 19/(96*sqrt(121/144 + 4885/(2592*(208045/373248 + 5*sqrt(9048041)*I/20736)**(1/3)) + 2*(208045/373248 + 5*sqrt(9048041)*I/20736)**(1/3))) - 4885/(2592*(208045/373248 + 5*sqrt(9048041)*I/20736)**(1/3)))/2, -3/8 + sqrt(121/144 + 4885/(2592*(208045/373248 + 5*sqrt(9048041)*I/20736)**(1/3)) + 2*(208045/373248 + 5*sqrt(9048041)*I/20736)**(1/3))/2 - sqrt(121/72 - 2*(208045/373248 + 5*sqrt(9048041)*I/20736)**(1/3) + 19/(96*sqrt(121/144 + 4885/(2592*(208045/373248 + 5*sqrt(9048041)*I/20736)**(1/3)) + 2*(208045/373248 + 5*sqrt(9048041)*I/20736)**(1/3))) - 4885/(2592*(208045/373248 + 5*sqrt(9048041)*I/20736)**(1/3)))/2, -3/8 + sqrt(121/72 - 2*(208045/373248 + 5*sqrt(9048041)*I/20736)**(1/3) - 19/(96*sqrt(121/144 + 4885/(2592*(208045/373248 + 5*sqrt(9048041)*I/20736)**(1/3)) + 2*(208045/373248 + 5*sqrt(9048041)*I/20736)**(1/3))) - 4885/(2592*(208045/373248 + 5*sqrt(9048041)*I/20736)**(1/3)))/2 - sqrt(121/144 + 4885/(2592*(208045/373248 + 5*sqrt(9048041)*I/20736)**(1/3)) + 2*(208045/373248 + 5*sqrt(9048041)*I/20736)**(1/3))/2, -3/8 + sqrt(121/72 - 2*(208045/373248 + 5*sqrt(9048041)*I/20736)**(1/3) + 19/(96*sqrt(121/144 + 4885/(2592*(208045/373248 + 5*sqrt(9048041)*I/20736)**(1/3)) + 2*(208045/373248 + 5*sqrt(9048041)*I/20736)**(1/3))) - 4885/(2592*(208045/373248 + 5*sqrt(9048041)*I/20736)**(1/3)))/2 + sqrt(121/144 + 4885/(2592*(208045/373248 + 5*sqrt(9048041)*I/20736)**(1/3)) + 2*(208045/373248 + 5*sqrt(9048041)*I/20736)**(1/3))/2]\n"
     ]
    }
   ],
   "source": [
    "print(solve(fx))"
   ]
  },
  {
   "cell_type": "code",
   "execution_count": 47,
   "metadata": {},
   "outputs": [
    {
     "ename": "ValueError",
     "evalue": "diff requires input that is at least one dimensional",
     "output_type": "error",
     "traceback": [
      "\u001b[1;31m---------------------------------------------------------------------------\u001b[0m",
      "\u001b[1;31mValueError\u001b[0m                                Traceback (most recent call last)",
      "Cell \u001b[1;32mIn[47], line 1\u001b[0m\n\u001b[1;32m----> 1\u001b[0m diff(fx)\n",
      "File \u001b[1;32m<__array_function__ internals>:200\u001b[0m, in \u001b[0;36mdiff\u001b[1;34m(*args, **kwargs)\u001b[0m\n",
      "File \u001b[1;32mc:\\Users\\RND\\AppData\\Local\\Programs\\Python\\Python311\\Lib\\site-packages\\numpy\\lib\\function_base.py:1414\u001b[0m, in \u001b[0;36mdiff\u001b[1;34m(a, n, axis, prepend, append)\u001b[0m\n\u001b[0;32m   1412\u001b[0m nd \u001b[39m=\u001b[39m a\u001b[39m.\u001b[39mndim\n\u001b[0;32m   1413\u001b[0m \u001b[39mif\u001b[39;00m nd \u001b[39m==\u001b[39m \u001b[39m0\u001b[39m:\n\u001b[1;32m-> 1414\u001b[0m     \u001b[39mraise\u001b[39;00m \u001b[39mValueError\u001b[39;00m(\u001b[39m\"\u001b[39m\u001b[39mdiff requires input that is at least one dimensional\u001b[39m\u001b[39m\"\u001b[39m)\n\u001b[0;32m   1415\u001b[0m axis \u001b[39m=\u001b[39m normalize_axis_index(axis, nd)\n\u001b[0;32m   1417\u001b[0m combined \u001b[39m=\u001b[39m []\n",
      "\u001b[1;31mValueError\u001b[0m: diff requires input that is at least one dimensional"
     ]
    }
   ],
   "source": [
    "diff(fx)"
   ]
  },
  {
   "cell_type": "code",
   "execution_count": 50,
   "metadata": {},
   "outputs": [
    {
     "data": {
      "text/latex": [
       "$\\displaystyle -\\infty < x \\wedge x < \\infty$"
      ],
      "text/plain": [
       "(-oo < x) & (x < oo)"
      ]
     },
     "execution_count": 50,
     "metadata": {},
     "output_type": "execute_result"
    }
   ],
   "source": [
    "solve(fx<0)"
   ]
  },
  {
   "cell_type": "code",
   "execution_count": 51,
   "metadata": {},
   "outputs": [
    {
     "data": {
      "text/latex": [
       "$\\displaystyle \\text{False}$"
      ],
      "text/plain": [
       "False"
      ]
     },
     "execution_count": 51,
     "metadata": {},
     "output_type": "execute_result"
    }
   ],
   "source": [
    "solve(fx>0)"
   ]
  }
 ],
 "metadata": {
  "kernelspec": {
   "display_name": "Python 3",
   "language": "python",
   "name": "python3"
  },
  "language_info": {
   "codemirror_mode": {
    "name": "ipython",
    "version": 3
   },
   "file_extension": ".py",
   "mimetype": "text/x-python",
   "name": "python",
   "nbconvert_exporter": "python",
   "pygments_lexer": "ipython3",
   "version": "3.11.1"
  },
  "orig_nbformat": 4,
  "vscode": {
   "interpreter": {
    "hash": "c74bacf236bbe8ca049cd94e31cbd3a2b7b1707ccc289000b92316e771e09071"
   }
  }
 },
 "nbformat": 4,
 "nbformat_minor": 2
}
